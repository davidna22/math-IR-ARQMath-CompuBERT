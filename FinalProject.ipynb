{
 "cells": [
  {
   "cell_type": "code",
   "execution_count": 1,
   "id": "8da351cd-3355-45e9-b7f5-33f6f74233b3",
   "metadata": {
    "execution": {
     "iopub.execute_input": "2022-12-04T21:20:39.608267Z",
     "iopub.status.busy": "2022-12-04T21:20:39.608056Z",
     "iopub.status.idle": "2022-12-04T21:20:39.617401Z",
     "shell.execute_reply": "2022-12-04T21:20:39.615547Z",
     "shell.execute_reply.started": "2022-12-04T21:20:39.608215Z"
    },
    "tags": []
   },
   "outputs": [],
   "source": [
    "import sys\n",
    "import os\n",
    "sys.path.append(\"CompuBERT\")"
   ]
  },
  {
   "cell_type": "code",
   "execution_count": 2,
   "id": "34544118-caec-4db6-99b1-2134a44f81d7",
   "metadata": {
    "execution": {
     "iopub.execute_input": "2022-12-04T21:20:39.619257Z",
     "iopub.status.busy": "2022-12-04T21:20:39.618960Z",
     "iopub.status.idle": "2022-12-04T21:20:39.890189Z",
     "shell.execute_reply": "2022-12-04T21:20:39.889352Z",
     "shell.execute_reply.started": "2022-12-04T21:20:39.619232Z"
    },
    "tags": []
   },
   "outputs": [],
   "source": [
    "# First you have to install the modified version of sentence-transformers\n",
    "# You can find this version if you git clone the CompuBERT Repo\n",
    "# https://github.com/MIR-MU/CompuBERT.git\n",
    "# All credit goes to MIR-MU team that developed CompuBERT\n",
    "\n",
    "# Uncomment this line to clone the CompuBERT Repo\n",
    "# !git clone https://github.com/MIR-MU/CompuBERT.git\n",
    "\n",
    "# First you must install these packages (CompuBERT uses Tensorboard if wanted)\n",
    "# !pip install lxml annoy pathos gensim==3.4.0\n",
    "# !pip install git+https://github.com/hbldh/xmlr\n",
    "\n",
    "# This package also relies on a custom package arqmath_eval\n",
    "# Download the package via git below\n",
    "# !pip install --force-reinstall git+https://github.com/MIR-MU/ARQMath-eval\n",
    "\n",
    "# Uncomment these lines below to download the modified package\n",
    "# !pip install sentence-transformers\n",
    "\n",
    "# RESTART KERNEL AFTER INSTALL"
   ]
  },
  {
   "cell_type": "code",
   "execution_count": 3,
   "id": "83bc6b9e-4a4f-4474-908a-d205be0c0f53",
   "metadata": {
    "execution": {
     "iopub.execute_input": "2022-12-04T21:20:39.891248Z",
     "iopub.status.busy": "2022-12-04T21:20:39.891086Z",
     "iopub.status.idle": "2022-12-04T21:21:15.487240Z",
     "shell.execute_reply": "2022-12-04T21:21:15.486501Z",
     "shell.execute_reply.started": "2022-12-04T21:20:39.891233Z"
    },
    "tags": []
   },
   "outputs": [
    {
     "name": "stderr",
     "output_type": "stream",
     "text": [
      "/home/dna/miniconda3/envs/math-ir/lib/python3.7/site-packages/tqdm/auto.py:22: TqdmWarning: IProgress not found. Please update jupyter and ipywidgets. See https://ipywidgets.readthedocs.io/en/stable/user_install.html\n",
      "  from .autonotebook import tqdm as notebook_tqdm\n"
     ]
    }
   ],
   "source": [
    "import torch\n",
    "import pandas as pd\n",
    "from bs4 import BeautifulSoup\n",
    "import numpy as np\n",
    "from sentence_transformers import SentenceTransformer\n",
    "from sentence_transformers import models, losses, SentencesDataset\n",
    "from ARQMathCode.post_reader_record import DataReaderRecord\n",
    "from scipy.stats import zscore\n",
    "from sentence_transformers.readers import InputExample\n",
    "from torch.utils.data import DataLoader\n",
    "from question_answer.utils import examples_from_questions_tup\n",
    "from question_answer.utils import dataloader_from_examples\n",
    "from sklearn.model_selection import train_test_split\n",
    "from sentence_transformers.evaluation import InformationRetrievalEvaluator\n",
    "from torch.utils.data import DataLoader\n",
    "from preproc.question_answer.blank_substituer import BlankSubstituer\n",
    "import pickle\n",
    "from sentence_transformers.datasets import SentenceLabelDataset\n",
    "from ArqmathEvaluator import ArqmathEvaluator"
   ]
  },
  {
   "cell_type": "code",
   "execution_count": 4,
   "id": "37f94dbb-416e-4065-9cd4-6e9b0221b3fc",
   "metadata": {
    "execution": {
     "iopub.execute_input": "2022-12-04T21:21:15.489368Z",
     "iopub.status.busy": "2022-12-04T21:21:15.488955Z",
     "iopub.status.idle": "2022-12-04T21:23:34.298038Z",
     "shell.execute_reply": "2022-12-04T21:23:34.297145Z",
     "shell.execute_reply.started": "2022-12-04T21:21:15.489350Z"
    },
    "tags": []
   },
   "outputs": [
    {
     "name": "stdout",
     "output_type": "stream",
     "text": [
      "reading posts\n"
     ]
    }
   ],
   "source": [
    "# ARQMath provides a function to read the XML files\n",
    "# This code runs the provided DataReaderRecord\n",
    "# Data from XML is stored in a DataReaderRecord object\n",
    "# Data is automatically loaded based on what files are found in the folder\n",
    "# Please use the CompuBERT augmented code for the ARQMath dataset\n",
    "# Found in their github repo: https://github.com/MIR-MU/CompuBERT/\n",
    "data_path = \"./data\"\n",
    "data_records = DataReaderRecord(data_path)"
   ]
  },
  {
   "cell_type": "code",
   "execution_count": 5,
   "id": "16bf6f35-a11b-4f0f-adca-28b06cc7e4ef",
   "metadata": {
    "execution": {
     "iopub.execute_input": "2022-12-04T21:23:34.299322Z",
     "iopub.status.busy": "2022-12-04T21:23:34.298997Z",
     "iopub.status.idle": "2022-12-04T21:29:17.836734Z",
     "shell.execute_reply": "2022-12-04T21:29:17.835960Z",
     "shell.execute_reply.started": "2022-12-04T21:23:34.299306Z"
    },
    "tags": []
   },
   "outputs": [
    {
     "name": "stderr",
     "output_type": "stream",
     "text": [
      "Parsing questions: Original math notation: 100%|█████████████████████████████████████████████████████████████████████████████| 1020585/1020585 [05:01<00:00, 3385.91it/s]\n",
      "Parsing answers: Original math notation: 100%|██████████████████████████████████████████████████████████████████████████████| 1445495/1445495 [00:40<00:00, 35479.98it/s]\n",
      "Replacing questions answers: Original math notation: 100%|███████████████████████████████████████████████████████████████████| 868130/868130 [00:01<00:00, 736033.20it/s]\n"
     ]
    }
   ],
   "source": [
    "\"\"\"\n",
    "Process Description: \n",
    "The Blank Substituter removes the <math> and other html tags from the text\n",
    "The postprocessor is found in the CompuBERT module.\n",
    "\n",
    "This function call splits the data_records and preprocesses the text.\n",
    "It also creates a label or weight for each q+a pair.\n",
    "The weight is calculated via a normalized score based on the number of up\n",
    "and down votes the answer received.\n",
    "\n",
    "NOTE: One change was made to the post processor, the labels had to be\n",
    "coerced into a float \n",
    "\"\"\"\n",
    "\n",
    "# UNCOMMENT THIS CODE TO RUN\n",
    "postprocessor = BlankSubstituer()\n",
    "postproc_parser = postprocessor.process_parser(data_records.post_parser)"
   ]
  },
  {
   "cell_type": "code",
   "execution_count": 6,
   "id": "4535638c-87cb-48b2-869f-91968884cdb1",
   "metadata": {
    "execution": {
     "iopub.execute_input": "2022-12-04T21:29:17.837984Z",
     "iopub.status.busy": "2022-12-04T21:29:17.837667Z",
     "iopub.status.idle": "2022-12-04T21:29:42.750661Z",
     "shell.execute_reply": "2022-12-04T21:29:42.749888Z",
     "shell.execute_reply.started": "2022-12-04T21:29:17.837967Z"
    },
    "tags": []
   },
   "outputs": [],
   "source": [
    "# with open('postprocessor.pickle', 'wb') as handle:\n",
    "#     _=pickle.dump(postproc_parser, handle, protocol=pickle.HIGHEST_PROTOCOL)"
   ]
  },
  {
   "cell_type": "code",
   "execution_count": 7,
   "id": "f9f8c487-f42f-4981-812d-5f3ae8a63b91",
   "metadata": {
    "execution": {
     "iopub.execute_input": "2022-12-04T19:14:16.529604Z",
     "iopub.status.busy": "2022-12-04T19:14:16.529281Z",
     "iopub.status.idle": "2022-12-04T19:15:21.849719Z",
     "shell.execute_reply": "2022-12-04T19:15:21.848927Z",
     "shell.execute_reply.started": "2022-12-04T19:14:16.529586Z"
    },
    "tags": []
   },
   "outputs": [],
   "source": [
    "# with open('postprocessor.pickle', 'rb') as handle:\n",
    "#     postproc_parser = pickle.load(handle)"
   ]
  },
  {
   "cell_type": "code",
   "execution_count": 9,
   "id": "be7641cd-18bc-4cbd-a463-fdfb0505fd08",
   "metadata": {
    "execution": {
     "iopub.execute_input": "2022-12-04T21:35:37.831064Z",
     "iopub.status.busy": "2022-12-04T21:35:37.830648Z",
     "iopub.status.idle": "2022-12-04T21:35:37.834830Z",
     "shell.execute_reply": "2022-12-04T21:35:37.833947Z",
     "shell.execute_reply.started": "2022-12-04T21:35:37.831045Z"
    },
    "tags": []
   },
   "outputs": [],
   "source": [
    "# This places all the q+a posts into a tuple of (question-text, answer-text)\n",
    "# This allows the encoder to vectorize and relate the q+a data samples\n",
    "all_data = list(examples_from_questions_tup(postproc_parser.map_questions.items()))"
   ]
  },
  {
   "cell_type": "code",
   "execution_count": 8,
   "id": "519b3948-679e-4b7d-9744-200a9827300e",
   "metadata": {
    "execution": {
     "iopub.execute_input": "2022-12-04T21:30:42.510390Z",
     "iopub.status.busy": "2022-12-04T21:30:42.510019Z",
     "iopub.status.idle": "2022-12-04T21:30:55.216189Z",
     "shell.execute_reply": "2022-12-04T21:30:55.215347Z",
     "shell.execute_reply.started": "2022-12-04T21:30:42.510372Z"
    },
    "tags": []
   },
   "outputs": [],
   "source": [
    "# with open(\"all_data.pickle\", \"wb\") as handle:\n",
    "#     _=pickle.dump(all_data, handle, protocol=pickle.HIGHEST_PROTOCOL)"
   ]
  },
  {
   "cell_type": "code",
   "execution_count": 10,
   "id": "561e9479-43d0-4230-9d83-b7e708470424",
   "metadata": {
    "execution": {
     "iopub.execute_input": "2022-12-04T21:35:43.856625Z",
     "iopub.status.busy": "2022-12-04T21:35:43.856253Z",
     "iopub.status.idle": "2022-12-04T21:36:03.638998Z",
     "shell.execute_reply": "2022-12-04T21:36:03.638254Z",
     "shell.execute_reply.started": "2022-12-04T21:35:43.856608Z"
    },
    "tags": []
   },
   "outputs": [],
   "source": [
    "with open(\"all_data.pickle\", \"rb\") as handle:\n",
    "    all_data = pickle.load(handle)\n",
    "dataset_size = len(all_data)"
   ]
  },
  {
   "cell_type": "code",
   "execution_count": 21,
   "id": "1ae4f3a2-37f1-4294-a5f5-d6d76e6e37ad",
   "metadata": {
    "execution": {
     "iopub.execute_input": "2022-12-04T19:17:40.621557Z",
     "iopub.status.busy": "2022-12-04T19:17:40.621224Z",
     "iopub.status.idle": "2022-12-04T19:17:41.128849Z",
     "shell.execute_reply": "2022-12-04T19:17:41.127893Z",
     "shell.execute_reply.started": "2022-12-04T19:17:40.621540Z"
    },
    "tags": []
   },
   "outputs": [],
   "source": [
    "# We split the dataset into a test and dev set\n",
    "X_train, X_dev = train_test_split(all_data, \n",
    "                                  train_size=0.9, \n",
    "                                  random_state=22,\n",
    "                                  shuffle=True)"
   ]
  },
  {
   "cell_type": "code",
   "execution_count": 22,
   "id": "ed0c841f-dbf8-4782-b059-5c1b034738d1",
   "metadata": {
    "execution": {
     "iopub.execute_input": "2022-12-04T19:17:41.130487Z",
     "iopub.status.busy": "2022-12-04T19:17:41.130026Z",
     "iopub.status.idle": "2022-12-04T19:17:41.134685Z",
     "shell.execute_reply": "2022-12-04T19:17:41.133658Z",
     "shell.execute_reply.started": "2022-12-04T19:17:41.130466Z"
    },
    "tags": []
   },
   "outputs": [],
   "source": [
    "## CompuBERT Base Model\n",
    "# device = \"cuda\"\n",
    "# model = SentenceTransformer(\"bert-base-wikipedia-sections-mean-tokens\", \n",
    "#                             device=\"cuda\")"
   ]
  },
  {
   "cell_type": "code",
   "execution_count": 23,
   "id": "34d99a13-b00d-425e-bcbf-3c85bb1b825a",
   "metadata": {
    "execution": {
     "iopub.execute_input": "2022-12-04T19:17:41.137004Z",
     "iopub.status.busy": "2022-12-04T19:17:41.136553Z",
     "iopub.status.idle": "2022-12-04T19:17:50.852542Z",
     "shell.execute_reply": "2022-12-04T19:17:50.851477Z",
     "shell.execute_reply.started": "2022-12-04T19:17:41.136982Z"
    },
    "tags": []
   },
   "outputs": [
    {
     "data": {
      "text/plain": [
       "SentenceTransformer(\n",
       "  (0): Transformer({'max_seq_length': 512, 'do_lower_case': False}) with Transformer model: BertModel \n",
       "  (1): Pooling({'word_embedding_dimension': 384, 'pooling_mode_cls_token': False, 'pooling_mode_mean_tokens': True, 'pooling_mode_max_tokens': False, 'pooling_mode_mean_sqrt_len_tokens': False})\n",
       "  (2): Normalize()\n",
       ")"
      ]
     },
     "execution_count": 23,
     "metadata": {},
     "output_type": "execute_result"
    }
   ],
   "source": [
    "# This is a new updated model that is said to perform better than\n",
    "# the base model above\n",
    "device = \"cuda\"\n",
    "model = SentenceTransformer(\"multi-qa-MiniLM-L6-cos-v1\", device=\"cuda\")\n",
    "model.to(device)"
   ]
  },
  {
   "cell_type": "code",
   "execution_count": 24,
   "id": "6e855741-dfaf-4f22-92bf-f62f42bb966d",
   "metadata": {
    "execution": {
     "iopub.execute_input": "2022-12-04T19:17:50.854127Z",
     "iopub.status.busy": "2022-12-04T19:17:50.853677Z",
     "iopub.status.idle": "2022-12-04T19:17:50.859485Z",
     "shell.execute_reply": "2022-12-04T19:17:50.858600Z",
     "shell.execute_reply.started": "2022-12-04T19:17:50.854104Z"
    },
    "tags": []
   },
   "outputs": [],
   "source": [
    "# Create the Sentence label dataset\n",
    "# You can opt to only take a subset of the data by changing X_train\n",
    "# to X_train[0:n]\n",
    "train_data = SentenceLabelDataset(X_train[0:1000], 2)\n",
    "val_data = SentencesDataset(X_dev, 2)"
   ]
  },
  {
   "cell_type": "code",
   "execution_count": 25,
   "id": "19d2ac25-deb1-4797-b5b8-329166af129e",
   "metadata": {
    "execution": {
     "iopub.execute_input": "2022-12-04T19:17:50.860877Z",
     "iopub.status.busy": "2022-12-04T19:17:50.860646Z",
     "iopub.status.idle": "2022-12-04T19:17:51.229331Z",
     "shell.execute_reply": "2022-12-04T19:17:51.228394Z",
     "shell.execute_reply.started": "2022-12-04T19:17:50.860856Z"
    },
    "tags": []
   },
   "outputs": [],
   "source": [
    "# Load the data loader for pytorch training\n",
    "train_loader = DataLoader(train_data, batch_size=10, shuffle=False)\n",
    "dev_loader = DataLoader(val_data, batch_size=10, shuffle=False)\n",
    "train_loss = losses.CosineSimilarityLoss(model=model)"
   ]
  },
  {
   "cell_type": "code",
   "execution_count": 26,
   "id": "f75862ac-2082-43db-bca6-c7d344d074c5",
   "metadata": {
    "execution": {
     "iopub.execute_input": "2022-12-04T19:17:51.230671Z",
     "iopub.status.busy": "2022-12-04T19:17:51.230397Z",
     "iopub.status.idle": "2022-12-04T19:17:52.019855Z",
     "shell.execute_reply": "2022-12-04T19:17:52.019005Z",
     "shell.execute_reply.started": "2022-12-04T19:17:51.230651Z"
    },
    "tags": []
   },
   "outputs": [],
   "source": [
    "# Create the sentences for the evaluator\n",
    "# The dataset we use for the evaluator is the dev set\n",
    "# The format for the evaluator changed since the last CompuBERT updated\n",
    "# I augmented the code to account for this change in the new\n",
    "# sentence-transformers package\n",
    "sentences_1 = [x.texts[0] for x in X_dev]\n",
    "sentences_2 = [x.texts[1] for x in X_dev]\n",
    "scores = [float(x.label) for x in X_dev]"
   ]
  },
  {
   "cell_type": "code",
   "execution_count": 27,
   "id": "e5d0dacd-e6bf-4e7b-a124-7b6f04eccd4b",
   "metadata": {
    "execution": {
     "iopub.execute_input": "2022-12-04T19:17:52.021656Z",
     "iopub.status.busy": "2022-12-04T19:17:52.020918Z",
     "iopub.status.idle": "2022-12-04T19:17:52.204000Z",
     "shell.execute_reply": "2022-12-04T19:17:52.203145Z",
     "shell.execute_reply.started": "2022-12-04T19:17:52.021631Z"
    },
    "tags": []
   },
   "outputs": [],
   "source": [
    "# Init the evaluator\n",
    "evaluator = ArqmathEvaluator(model, sentences_1, sentences_2, scores,\n",
    "                             batch_size=8,\n",
    "                             post_parser_postproc=postproc_parser,\n",
    "                             name = \"ARQMathEvaluator\",\n",
    "                             show_progress_bar=True,\n",
    "                             write_csv=True\n",
    "                            )"
   ]
  },
  {
   "cell_type": "code",
   "execution_count": 28,
   "id": "040b0f85-6738-44fd-af16-94ac165a3490",
   "metadata": {
    "execution": {
     "iopub.execute_input": "2022-12-04T19:17:52.205998Z",
     "iopub.status.busy": "2022-12-04T19:17:52.205799Z",
     "iopub.status.idle": "2022-12-04T19:17:54.353222Z",
     "shell.execute_reply": "2022-12-04T19:17:54.352362Z",
     "shell.execute_reply.started": "2022-12-04T19:17:52.205979Z"
    },
    "tags": []
   },
   "outputs": [],
   "source": [
    "## Removing Unneccessary Variables\n",
    "del all_data\n",
    "del X_train\n",
    "del X_dev"
   ]
  },
  {
   "cell_type": "code",
   "execution_count": 29,
   "id": "495e8fdd-6d3e-4036-ba7a-2cf5d0818f9f",
   "metadata": {
    "execution": {
     "iopub.execute_input": "2022-12-04T19:18:40.085832Z",
     "iopub.status.busy": "2022-12-04T19:18:40.085188Z",
     "iopub.status.idle": "2022-12-04T19:19:01.936003Z",
     "shell.execute_reply": "2022-12-04T19:19:01.934979Z",
     "shell.execute_reply.started": "2022-12-04T19:18:40.085812Z"
    },
    "tags": []
   },
   "outputs": [
    {
     "name": "stderr",
     "output_type": "stream",
     "text": [
      "Epoch:   0%|                                                                                                                                             | 0/10 [00:00<?, ?it/s]\n",
      "Iteration:   0%|                                                                                                                                         | 0/95 [00:00<?, ?it/s]\u001b[A\n",
      "Iteration:   1%|█▎                                                                                                                               | 1/95 [00:00<01:03,  1.49it/s]\u001b[A\n",
      "Iteration:   2%|██▋                                                                                                                              | 2/95 [00:00<00:44,  2.11it/s]\u001b[A\n",
      "Iteration:   3%|████                                                                                                                             | 3/95 [00:01<00:35,  2.62it/s]\u001b[A\n",
      "Iteration:   4%|█████▍                                                                                                                           | 4/95 [00:01<00:29,  3.04it/s]\u001b[A\n",
      "Iteration:   5%|██████▊                                                                                                                          | 5/95 [00:01<00:27,  3.25it/s]\u001b[A\n",
      "Iteration:   6%|████████▏                                                                                                                        | 6/95 [00:01<00:24,  3.65it/s]\u001b[A\n",
      "Iteration:   7%|█████████▌                                                                                                                       | 7/95 [00:01<00:24,  3.66it/s]\u001b[A\n",
      "Iteration:   8%|██████████▊                                                                                                                      | 8/95 [00:02<00:23,  3.77it/s]\u001b[A\n",
      "Iteration:   9%|████████████▏                                                                                                                    | 9/95 [00:02<00:22,  3.76it/s]\u001b[A\n",
      "Iteration:  11%|█████████████▍                                                                                                                  | 10/95 [00:02<00:21,  3.88it/s]\u001b[A\n",
      "Iteration:  12%|██████████████▊                                                                                                                 | 11/95 [00:02<00:21,  3.89it/s]\u001b[A\n",
      "Iteration:  13%|████████████████▏                                                                                                               | 12/95 [00:03<00:21,  3.91it/s]\u001b[A\n",
      "Iteration:  14%|█████████████████▌                                                                                                              | 13/95 [00:03<00:20,  4.03it/s]\u001b[A\n",
      "Iteration:  15%|██████████████████▊                                                                                                             | 14/95 [00:03<00:20,  4.01it/s]\u001b[A\n",
      "Iteration:  16%|████████████████████▏                                                                                                           | 15/95 [00:03<00:19,  4.00it/s]\u001b[A\n",
      "Iteration:  17%|█████████████████████▌                                                                                                          | 16/95 [00:04<00:19,  4.10it/s]\u001b[A\n",
      "Iteration:  18%|██████████████████████▉                                                                                                         | 17/95 [00:04<00:18,  4.14it/s]\u001b[A\n",
      "Iteration:  19%|████████████████████████▎                                                                                                       | 18/95 [00:04<00:18,  4.11it/s]\u001b[A\n",
      "Iteration:  20%|█████████████████████████▌                                                                                                      | 19/95 [00:04<00:18,  4.15it/s]\u001b[A\n",
      "Iteration:  21%|██████████████████████████▉                                                                                                     | 20/95 [00:04<00:17,  4.27it/s]\u001b[A\n",
      "Iteration:  22%|████████████████████████████▎                                                                                                   | 21/95 [00:05<00:17,  4.29it/s]\u001b[A\n",
      "Iteration:  23%|█████████████████████████████▋                                                                                                  | 22/95 [00:05<00:16,  4.35it/s]\u001b[A\n",
      "Iteration:  24%|██████████████████████████████▉                                                                                                 | 23/95 [00:05<00:17,  4.23it/s]\u001b[A\n",
      "Iteration:  25%|████████████████████████████████▎                                                                                               | 24/95 [00:05<00:16,  4.23it/s]\u001b[A\n",
      "Iteration:  26%|█████████████████████████████████▋                                                                                              | 25/95 [00:06<00:16,  4.18it/s]\u001b[A\n",
      "Iteration:  27%|███████████████████████████████████                                                                                             | 26/95 [00:06<00:16,  4.24it/s]\u001b[A\n",
      "Iteration:  28%|████████████████████████████████████▍                                                                                           | 27/95 [00:06<00:15,  4.29it/s]\u001b[A\n",
      "Iteration:  29%|█████████████████████████████████████▋                                                                                          | 28/95 [00:06<00:15,  4.31it/s]\u001b[A\n",
      "Iteration:  31%|███████████████████████████████████████                                                                                         | 29/95 [00:07<00:15,  4.26it/s]\u001b[A\n",
      "Iteration:  32%|████████████████████████████████████████▍                                                                                       | 30/95 [00:07<00:15,  4.25it/s]\u001b[A\n",
      "Iteration:  33%|█████████████████████████████████████████▊                                                                                      | 31/95 [00:07<00:14,  4.30it/s]\u001b[A\n",
      "Iteration:  34%|███████████████████████████████████████████                                                                                     | 32/95 [00:07<00:14,  4.26it/s]\u001b[A\n",
      "Iteration:  35%|████████████████████████████████████████████▍                                                                                   | 33/95 [00:07<00:14,  4.28it/s]\u001b[A\n",
      "Iteration:  36%|█████████████████████████████████████████████▊                                                                                  | 34/95 [00:08<00:14,  4.24it/s]\u001b[A\n",
      "Iteration:  37%|███████████████████████████████████████████████▏                                                                                | 35/95 [00:08<00:14,  4.25it/s]\u001b[A\n",
      "Iteration:  38%|████████████████████████████████████████████████▌                                                                               | 36/95 [00:08<00:13,  4.24it/s]\u001b[A\n",
      "Iteration:  39%|█████████████████████████████████████████████████▊                                                                              | 37/95 [00:08<00:13,  4.29it/s]\u001b[A\n",
      "Iteration:  40%|███████████████████████████████████████████████████▏                                                                            | 38/95 [00:09<00:13,  4.25it/s]\u001b[A\n",
      "Iteration:  41%|████████████████████████████████████████████████████▌                                                                           | 39/95 [00:09<00:13,  4.22it/s]\u001b[A\n",
      "Iteration:  42%|█████████████████████████████████████████████████████▉                                                                          | 40/95 [00:09<00:13,  4.21it/s]\u001b[A\n",
      "Iteration:  43%|███████████████████████████████████████████████████████▏                                                                        | 41/95 [00:09<00:12,  4.23it/s]\u001b[A\n",
      "Iteration:  44%|████████████████████████████████████████████████████████▌                                                                       | 42/95 [00:10<00:12,  4.19it/s]\u001b[A\n",
      "Iteration:  45%|█████████████████████████████████████████████████████████▉                                                                      | 43/95 [00:10<00:12,  4.17it/s]\u001b[A\n",
      "Iteration:  46%|███████████████████████████████████████████████████████████▎                                                                    | 44/95 [00:10<00:12,  4.14it/s]\u001b[A\n",
      "Iteration:  47%|████████████████████████████████████████████████████████████▋                                                                   | 45/95 [00:10<00:11,  4.19it/s]\u001b[A\n",
      "Iteration:  48%|█████████████████████████████████████████████████████████████▉                                                                  | 46/95 [00:11<00:11,  4.22it/s]\u001b[A\n",
      "Iteration:  49%|███████████████████████████████████████████████████████████████▎                                                                | 47/95 [00:11<00:11,  4.19it/s]\u001b[A\n",
      "Iteration:  51%|████████████████████████████████████████████████████████████████▋                                                               | 48/95 [00:11<00:11,  4.16it/s]\u001b[A\n",
      "Iteration:  52%|██████████████████████████████████████████████████████████████████                                                              | 49/95 [00:11<00:11,  4.13it/s]\u001b[A\n",
      "Iteration:  53%|███████████████████████████████████████████████████████████████████▎                                                            | 50/95 [00:12<00:10,  4.20it/s]\u001b[A\n",
      "Iteration:  54%|████████████████████████████████████████████████████████████████████▋                                                           | 51/95 [00:12<00:10,  4.17it/s]\u001b[A\n",
      "Iteration:  55%|██████████████████████████████████████████████████████████████████████                                                          | 52/95 [00:12<00:10,  4.18it/s]\u001b[A\n",
      "Iteration:  56%|███████████████████████████████████████████████████████████████████████▍                                                        | 53/95 [00:12<00:09,  4.23it/s]\u001b[A\n",
      "Iteration:  57%|████████████████████████████████████████████████████████████████████████▊                                                       | 54/95 [00:12<00:09,  4.21it/s]\u001b[A\n",
      "Iteration:  58%|██████████████████████████████████████████████████████████████████████████                                                      | 55/95 [00:13<00:09,  4.26it/s]\u001b[A\n",
      "Iteration:  59%|███████████████████████████████████████████████████████████████████████████▍                                                    | 56/95 [00:13<00:09,  4.24it/s]\u001b[A\n",
      "Iteration:  60%|████████████████████████████████████████████████████████████████████████████▊                                                   | 57/95 [00:13<00:08,  4.33it/s]\u001b[A\n",
      "Iteration:  61%|██████████████████████████████████████████████████████████████████████████████▏                                                 | 58/95 [00:13<00:08,  4.38it/s]\u001b[A\n",
      "Iteration:  62%|███████████████████████████████████████████████████████████████████████████████▍                                                | 59/95 [00:14<00:08,  4.34it/s]\u001b[A\n",
      "Iteration:  64%|██████████████████████████████████████████████████████████████████████████████████▏                                             | 61/95 [00:14<00:07,  4.43it/s]\u001b[A\n",
      "Iteration:  65%|███████████████████████████████████████████████████████████████████████████████████▌                                            | 62/95 [00:14<00:07,  4.44it/s]\u001b[A\n",
      "Iteration:  66%|████████████████████████████████████████████████████████████████████████████████████▉                                           | 63/95 [00:14<00:07,  4.47it/s]\u001b[A\n",
      "Iteration:  67%|██████████████████████████████████████████████████████████████████████████████████████▏                                         | 64/95 [00:15<00:06,  4.48it/s]\u001b[A\n",
      "Iteration:  68%|███████████████████████████████████████████████████████████████████████████████████████▌                                        | 65/95 [00:15<00:06,  4.46it/s]\u001b[A\n",
      "Iteration:  69%|████████████████████████████████████████████████████████████████████████████████████████▉                                       | 66/95 [00:15<00:06,  4.41it/s]\u001b[A\n",
      "Iteration:  71%|██████████████████████████████████████████████████████████████████████████████████████████▎                                     | 67/95 [00:15<00:06,  4.48it/s]\u001b[A\n",
      "Iteration:  72%|███████████████████████████████████████████████████████████████████████████████████████████▌                                    | 68/95 [00:15<00:06,  4.43it/s]\u001b[A\n",
      "Iteration:  73%|████████████████████████████████████████████████████████████████████████████████████████████▉                                   | 69/95 [00:16<00:05,  4.40it/s]\u001b[A\n",
      "Iteration:  74%|██████████████████████████████████████████████████████████████████████████████████████████████▎                                 | 70/95 [00:16<00:05,  4.44it/s]\u001b[A\n",
      "Iteration:  75%|███████████████████████████████████████████████████████████████████████████████████████████████▋                                | 71/95 [00:16<00:05,  4.40it/s]\u001b[A\n",
      "Iteration:  76%|█████████████████████████████████████████████████████████████████████████████████████████████████                               | 72/95 [00:16<00:05,  4.45it/s]\u001b[A\n",
      "Iteration:  77%|██████████████████████████████████████████████████████████████████████████████████████████████████▎                             | 73/95 [00:17<00:04,  4.49it/s]\u001b[A\n",
      "Iteration:  78%|███████████████████████████████████████████████████████████████████████████████████████████████████▋                            | 74/95 [00:17<00:04,  4.44it/s]\u001b[A\n",
      "Iteration:  79%|█████████████████████████████████████████████████████████████████████████████████████████████████████                           | 75/95 [00:17<00:04,  4.47it/s]\u001b[A\n",
      "Iteration:  80%|██████████████████████████████████████████████████████████████████████████████████████████████████████▍                         | 76/95 [00:17<00:04,  4.54it/s]\u001b[A\n",
      "Iteration:  81%|███████████████████████████████████████████████████████████████████████████████████████████████████████▋                        | 77/95 [00:17<00:03,  4.57it/s]\u001b[A\n",
      "Iteration:  82%|█████████████████████████████████████████████████████████████████████████████████████████████████████████                       | 78/95 [00:18<00:03,  4.60it/s]\u001b[A\n",
      "Iteration:  83%|██████████████████████████████████████████████████████████████████████████████████████████████████████████▍                     | 79/95 [00:18<00:03,  4.54it/s]\u001b[A\n",
      "Iteration:  84%|███████████████████████████████████████████████████████████████████████████████████████████████████████████▊                    | 80/95 [00:18<00:03,  4.51it/s]\u001b[A\n",
      "Iteration:  85%|█████████████████████████████████████████████████████████████████████████████████████████████████████████████▏                  | 81/95 [00:18<00:03,  4.51it/s]\u001b[A\n",
      "Iteration:  86%|██████████████████████████████████████████████████████████████████████████████████████████████████████████████▍                 | 82/95 [00:19<00:02,  4.48it/s]\u001b[A\n",
      "Iteration:  87%|███████████████████████████████████████████████████████████████████████████████████████████████████████████████▊                | 83/95 [00:19<00:02,  4.52it/s]\u001b[A\n",
      "Iteration:  88%|█████████████████████████████████████████████████████████████████████████████████████████████████████████████████▏              | 84/95 [00:19<00:02,  4.51it/s]\u001b[A\n",
      "Iteration:  89%|██████████████████████████████████████████████████████████████████████████████████████████████████████████████████▌             | 85/95 [00:19<00:02,  4.47it/s]\u001b[A\n",
      "Iteration:  91%|███████████████████████████████████████████████████████████████████████████████████████████████████████████████████▊            | 86/95 [00:19<00:01,  4.51it/s]\u001b[A\n",
      "Iteration:  93%|██████████████████████████████████████████████████████████████████████████████████████████████████████████████████████▌         | 88/95 [00:20<00:01,  4.63it/s]\u001b[A\n",
      "Iteration:  94%|███████████████████████████████████████████████████████████████████████████████████████████████████████████████████████▉        | 89/95 [00:20<00:01,  4.59it/s]\u001b[A\n",
      "Iteration:  95%|█████████████████████████████████████████████████████████████████████████████████████████████████████████████████████████▎      | 90/95 [00:20<00:01,  4.56it/s]\u001b[A\n",
      "Iteration:  96%|██████████████████████████████████████████████████████████████████████████████████████████████████████████████████████████▌     | 91/95 [00:20<00:00,  4.52it/s]\u001b[A\n",
      "Iteration:  97%|███████████████████████████████████████████████████████████████████████████████████████████████████████████████████████████▉    | 92/95 [00:21<00:00,  4.60it/s]\u001b[A\n",
      "Iteration:  98%|█████████████████████████████████████████████████████████████████████████████████████████████████████████████████████████████▎  | 93/95 [00:21<00:00,  4.60it/s]\u001b[A\n",
      "Iteration: 100%|████████████████████████████████████████████████████████████████████████████████████████████████████████████████████████████████| 95/95 [00:21<00:00,  4.38it/s]\u001b[A\n",
      "Epoch:   0%|                                                                                                                                             | 0/10 [00:21<?, ?it/s]\n"
     ]
    },
    {
     "ename": "TypeError",
     "evalue": "__call__() got an unexpected keyword argument 'additional_evaluator'",
     "output_type": "error",
     "traceback": [
      "\u001b[0;31m---------------------------------------------------------------------------\u001b[0m",
      "\u001b[0;31mTypeError\u001b[0m                                 Traceback (most recent call last)",
      "\u001b[0;32m/tmp/ipykernel_13436/3835265120.py\u001b[0m in \u001b[0;36m<module>\u001b[0;34m\u001b[0m\n\u001b[1;32m      6\u001b[0m           \u001b[0mwarmup_steps\u001b[0m\u001b[0;34m=\u001b[0m\u001b[0;36m5000\u001b[0m\u001b[0;34m,\u001b[0m\u001b[0;34m\u001b[0m\u001b[0;34m\u001b[0m\u001b[0m\n\u001b[1;32m      7\u001b[0m           \u001b[0moutput_path\u001b[0m\u001b[0;34m=\u001b[0m\u001b[0;34mf\"Math-IR-System-Experiment-{experiment_num}\"\u001b[0m\u001b[0;34m,\u001b[0m\u001b[0;34m\u001b[0m\u001b[0;34m\u001b[0m\u001b[0m\n\u001b[0;32m----> 8\u001b[0;31m           optimizer_params={'lr': 2e-5, 'eps': 1e-6})\n\u001b[0m",
      "\u001b[0;32m~/miniconda3/envs/math-ir/lib/python3.7/site-packages/sentence_transformers/SentenceTransformer.py\u001b[0m in \u001b[0;36mfit\u001b[0;34m(self, train_objectives, evaluator, epochs, steps_per_epoch, scheduler, warmup_steps, optimizer_class, optimizer_params, weight_decay, evaluation_steps, output_path, save_best_model, max_grad_norm, use_amp, callback, show_progress_bar, checkpoint_path, checkpoint_save_steps, checkpoint_save_total_limit)\u001b[0m\n\u001b[1;32m    743\u001b[0m \u001b[0;34m\u001b[0m\u001b[0m\n\u001b[1;32m    744\u001b[0m \u001b[0;34m\u001b[0m\u001b[0m\n\u001b[0;32m--> 745\u001b[0;31m             \u001b[0mself\u001b[0m\u001b[0;34m.\u001b[0m\u001b[0m_eval_during_training\u001b[0m\u001b[0;34m(\u001b[0m\u001b[0mevaluator\u001b[0m\u001b[0;34m,\u001b[0m \u001b[0moutput_path\u001b[0m\u001b[0;34m,\u001b[0m \u001b[0msave_best_model\u001b[0m\u001b[0;34m,\u001b[0m \u001b[0mepoch\u001b[0m\u001b[0;34m,\u001b[0m \u001b[0;34m-\u001b[0m\u001b[0;36m1\u001b[0m\u001b[0;34m,\u001b[0m \u001b[0mcallback\u001b[0m\u001b[0;34m)\u001b[0m\u001b[0;34m\u001b[0m\u001b[0;34m\u001b[0m\u001b[0m\n\u001b[0m\u001b[1;32m    746\u001b[0m \u001b[0;34m\u001b[0m\u001b[0m\n\u001b[1;32m    747\u001b[0m         \u001b[0;32mif\u001b[0m \u001b[0mevaluator\u001b[0m \u001b[0;32mis\u001b[0m \u001b[0;32mNone\u001b[0m \u001b[0;32mand\u001b[0m \u001b[0moutput_path\u001b[0m \u001b[0;32mis\u001b[0m \u001b[0;32mnot\u001b[0m \u001b[0;32mNone\u001b[0m\u001b[0;34m:\u001b[0m   \u001b[0;31m#No evaluator, but output path: save final model version\u001b[0m\u001b[0;34m\u001b[0m\u001b[0;34m\u001b[0m\u001b[0m\n",
      "\u001b[0;32m~/miniconda3/envs/math-ir/lib/python3.7/site-packages/sentence_transformers/SentenceTransformer.py\u001b[0m in \u001b[0;36m_eval_during_training\u001b[0;34m(self, evaluator, output_path, save_best_model, epoch, steps, callback)\u001b[0m\n\u001b[1;32m    775\u001b[0m \u001b[0;34m\u001b[0m\u001b[0m\n\u001b[1;32m    776\u001b[0m         \u001b[0;32mif\u001b[0m \u001b[0mevaluator\u001b[0m \u001b[0;32mis\u001b[0m \u001b[0;32mnot\u001b[0m \u001b[0;32mNone\u001b[0m\u001b[0;34m:\u001b[0m\u001b[0;34m\u001b[0m\u001b[0;34m\u001b[0m\u001b[0m\n\u001b[0;32m--> 777\u001b[0;31m             \u001b[0mscore\u001b[0m \u001b[0;34m=\u001b[0m \u001b[0mevaluator\u001b[0m\u001b[0;34m(\u001b[0m\u001b[0mself\u001b[0m\u001b[0;34m,\u001b[0m \u001b[0moutput_path\u001b[0m\u001b[0;34m=\u001b[0m\u001b[0meval_path\u001b[0m\u001b[0;34m,\u001b[0m \u001b[0mepoch\u001b[0m\u001b[0;34m=\u001b[0m\u001b[0mepoch\u001b[0m\u001b[0;34m,\u001b[0m \u001b[0msteps\u001b[0m\u001b[0;34m=\u001b[0m\u001b[0msteps\u001b[0m\u001b[0;34m)\u001b[0m\u001b[0;34m\u001b[0m\u001b[0;34m\u001b[0m\u001b[0m\n\u001b[0m\u001b[1;32m    778\u001b[0m             \u001b[0;32mif\u001b[0m \u001b[0mcallback\u001b[0m \u001b[0;32mis\u001b[0m \u001b[0;32mnot\u001b[0m \u001b[0;32mNone\u001b[0m\u001b[0;34m:\u001b[0m\u001b[0;34m\u001b[0m\u001b[0;34m\u001b[0m\u001b[0m\n\u001b[1;32m    779\u001b[0m                 \u001b[0mcallback\u001b[0m\u001b[0;34m(\u001b[0m\u001b[0mscore\u001b[0m\u001b[0;34m,\u001b[0m \u001b[0mepoch\u001b[0m\u001b[0;34m,\u001b[0m \u001b[0msteps\u001b[0m\u001b[0;34m)\u001b[0m\u001b[0;34m\u001b[0m\u001b[0;34m\u001b[0m\u001b[0m\n",
      "\u001b[0;32m/mnt/c/Users/David Na/Desktop/School/Fall 2022/Information Retrieval/Final Project/math-IR-ARQMath-CompuBERT/ArqmathEvaluator.py\u001b[0m in \u001b[0;36m__call__\u001b[0;34m(self, eval_all_metrics, report_tsv, *args, **kwargs)\u001b[0m\n\u001b[1;32m     94\u001b[0m \u001b[0;34m\u001b[0m\u001b[0m\n\u001b[1;32m     95\u001b[0m         \u001b[0;32mif\u001b[0m \u001b[0meval_all_metrics\u001b[0m\u001b[0;34m:\u001b[0m\u001b[0;34m\u001b[0m\u001b[0;34m\u001b[0m\u001b[0m\n\u001b[0;32m---> 96\u001b[0;31m             \u001b[0;32mreturn\u001b[0m \u001b[0msuper\u001b[0m\u001b[0;34m(\u001b[0m\u001b[0mArqmathEvaluator\u001b[0m\u001b[0;34m,\u001b[0m \u001b[0mself\u001b[0m\u001b[0;34m)\u001b[0m\u001b[0;34m.\u001b[0m\u001b[0m__call__\u001b[0m\u001b[0;34m(\u001b[0m\u001b[0;34m*\u001b[0m\u001b[0margs\u001b[0m\u001b[0;34m,\u001b[0m \u001b[0;34m**\u001b[0m\u001b[0mkwargs\u001b[0m\u001b[0;34m,\u001b[0m \u001b[0madditional_evaluator\u001b[0m\u001b[0;34m=\u001b[0m\u001b[0mtrec_metric_f\u001b[0m\u001b[0;34m)\u001b[0m\u001b[0;34m\u001b[0m\u001b[0;34m\u001b[0m\u001b[0m\n\u001b[0m\u001b[1;32m     97\u001b[0m         \u001b[0;32melse\u001b[0m\u001b[0;34m:\u001b[0m\u001b[0;34m\u001b[0m\u001b[0;34m\u001b[0m\u001b[0m\n\u001b[1;32m     98\u001b[0m             \u001b[0;32mreturn\u001b[0m \u001b[0mtrec_metric_f\u001b[0m\u001b[0;34m(\u001b[0m\u001b[0;34m)\u001b[0m\u001b[0;34m\u001b[0m\u001b[0;34m\u001b[0m\u001b[0m\n",
      "\u001b[0;31mTypeError\u001b[0m: __call__() got an unexpected keyword argument 'additional_evaluator'"
     ]
    }
   ],
   "source": [
    "# Run the experiment\n",
    "experiment_num = 1\n",
    "model.fit(train_objectives=[(train_loader, train_loss)],\n",
    "          evaluator=evaluator,\n",
    "          epochs=10,\n",
    "          evaluation_steps=1280,\n",
    "          warmup_steps=5000,\n",
    "          output_path=f\"Math-IR-System-Experiment-{experiment_num}\",\n",
    "          optimizer_params={'lr': 2e-5, 'eps': 1e-6})"
   ]
  },
  {
   "cell_type": "code",
   "execution_count": null,
   "id": "fc440afb-6288-47b4-998e-09b8c9fdacdb",
   "metadata": {},
   "outputs": [],
   "source": []
  }
 ],
 "metadata": {
  "kernelspec": {
   "display_name": "Python 3 (ipykernel)",
   "language": "python",
   "name": "python3"
  },
  "language_info": {
   "codemirror_mode": {
    "name": "ipython",
    "version": 3
   },
   "file_extension": ".py",
   "mimetype": "text/x-python",
   "name": "python",
   "nbconvert_exporter": "python",
   "pygments_lexer": "ipython3",
   "version": "3.7.7"
  }
 },
 "nbformat": 4,
 "nbformat_minor": 5
}
