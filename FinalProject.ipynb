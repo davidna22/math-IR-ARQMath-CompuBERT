{
 "cells": [
  {
   "cell_type": "code",
   "execution_count": 1,
   "id": "8da351cd-3355-45e9-b7f5-33f6f74233b3",
   "metadata": {
    "execution": {
     "iopub.execute_input": "2022-12-07T03:34:50.497534Z",
     "iopub.status.busy": "2022-12-07T03:34:50.497309Z",
     "iopub.status.idle": "2022-12-07T03:34:50.506482Z",
     "shell.execute_reply": "2022-12-07T03:34:50.504647Z",
     "shell.execute_reply.started": "2022-12-07T03:34:50.497484Z"
    },
    "tags": []
   },
   "outputs": [],
   "source": [
    "import sys\n",
    "import os\n",
    "sys.path.append(\"CompuBERT\")"
   ]
  },
  {
   "cell_type": "code",
   "execution_count": 2,
   "id": "34544118-caec-4db6-99b1-2134a44f81d7",
   "metadata": {
    "execution": {
     "iopub.execute_input": "2022-12-07T03:34:50.509544Z",
     "iopub.status.busy": "2022-12-07T03:34:50.509326Z",
     "iopub.status.idle": "2022-12-07T03:34:51.180369Z",
     "shell.execute_reply": "2022-12-07T03:34:51.179446Z",
     "shell.execute_reply.started": "2022-12-07T03:34:50.509516Z"
    },
    "tags": []
   },
   "outputs": [],
   "source": [
    "# First you have to install the modified version of sentence-transformers\n",
    "# You can find this version if you git clone the CompuBERT Repo\n",
    "# https://github.com/MIR-MU/CompuBERT.git\n",
    "# All credit goes to MIR-MU team that developed CompuBERT\n",
    "\n",
    "# First you must install these packages (CompuBERT uses Tensorboard if wanted)\n",
    "# !pip install lxml annoy pathos gensim==3.4.0\n",
    "# !pip install git+https://github.com/hbldh/xmlr\n",
    "\n",
    "# This package also relies on a custom package arqmath_eval\n",
    "# Download the package via git below\n",
    "# !pip install --force-reinstall git+https://github.com/MIR-MU/ARQMath-eval\n",
    "\n",
    "# Uncomment these lines below to download the modified package\n",
    "# !pip install sentence-transformers\n",
    "\n",
    "# RESTART KERNEL AFTER INSTALL"
   ]
  },
  {
   "cell_type": "code",
   "execution_count": 3,
   "id": "83bc6b9e-4a4f-4474-908a-d205be0c0f53",
   "metadata": {
    "execution": {
     "iopub.execute_input": "2022-12-07T03:34:51.181571Z",
     "iopub.status.busy": "2022-12-07T03:34:51.181405Z",
     "iopub.status.idle": "2022-12-07T03:34:57.232580Z",
     "shell.execute_reply": "2022-12-07T03:34:57.231820Z",
     "shell.execute_reply.started": "2022-12-07T03:34:51.181552Z"
    },
    "tags": []
   },
   "outputs": [],
   "source": [
    "import torch\n",
    "import warnings\n",
    "import pandas as pd\n",
    "from bs4 import BeautifulSoup\n",
    "import numpy as np\n",
    "import sentence_transformers\n",
    "from sentence_transformers import SentenceTransformer, models\n",
    "from sentence_transformers import models, losses, SentencesDataset\n",
    "from ARQMathCode.post_reader_record import DataReaderRecord\n",
    "from scipy.stats import zscore\n",
    "from sentence_transformers.readers import InputExample\n",
    "from torch.utils.data import DataLoader\n",
    "from question_answer.utils import examples_from_questions_tup\n",
    "from question_answer.utils import dataloader_from_examples\n",
    "from sklearn.model_selection import train_test_split\n",
    "from sentence_transformers.evaluation import InformationRetrievalEvaluator\n",
    "from torch.utils.data import DataLoader\n",
    "from preproc.question_answer.blank_substituer import BlankSubstituer\n",
    "import pickle\n",
    "from sentence_transformers.datasets import SentenceLabelDataset\n",
    "from ArqmathEvaluator import ArqmathEvaluator\n",
    "from transformers import AutoTokenizer, AutoModelForSequenceClassification\n",
    "from transformers import MPNetModel, AutoModel, MPNetTokenizerFast\n",
    "from transformers import AutoModelForQuestionAnswering, TrainingArguments\n",
    "from transformers import DefaultDataCollator, DataCollatorForLanguageModeling\n",
    "from transformers import TrainingArguments, Trainer\n",
    "from transformers import AdamW, BertModel, BertTokenizer\n",
    "import evaluate\n",
    "from tqdm.notebook import tqdm_notebook as tqdm\n",
    "from datasets import load_metric\n",
    "from pytorch_optimizer import Nero, Adan\n",
    "import pytorch_optimizer\n",
    "import transformers\n",
    "import csv\n",
    "from sentence_transformers.util import cos_sim\n",
    "import functorch\n",
    "import heapq\n",
    "# Ignore Warnings from Transformers\n",
    "transformers.logging.set_verbosity_error()"
   ]
  },
  {
   "cell_type": "markdown",
   "id": "23362956-473d-4ab8-b9f7-1af65b6e6215",
   "metadata": {},
   "source": [
    "### Process Data Records from XML Dataset"
   ]
  },
  {
   "cell_type": "code",
   "execution_count": 4,
   "id": "37f94dbb-416e-4065-9cd4-6e9b0221b3fc",
   "metadata": {
    "execution": {
     "iopub.execute_input": "2022-12-07T03:34:57.233897Z",
     "iopub.status.busy": "2022-12-07T03:34:57.233491Z",
     "iopub.status.idle": "2022-12-07T03:34:57.237622Z",
     "shell.execute_reply": "2022-12-07T03:34:57.236693Z",
     "shell.execute_reply.started": "2022-12-07T03:34:57.233881Z"
    },
    "tags": []
   },
   "outputs": [],
   "source": [
    "# ARQMath provides a function to read the XML files\n",
    "# This code runs the provided DataReaderRecord\n",
    "# Data from XML is stored in a DataReaderRecord object\n",
    "# Data is automatically loaded based on what files are found in the folder\n",
    "# Please use the CompuBERT augmented code for the ARQMath dataset\n",
    "# Found in their github repo: https://github.com/MIR-MU/CompuBERT/\n",
    "\n",
    "# # UNCOMMENT THIS CODE TO RUN\n",
    "# data_path = \"./data\"\n",
    "# data_records = DataReaderRecord(data_path)"
   ]
  },
  {
   "cell_type": "markdown",
   "id": "a37540a9-1c25-42d6-a2c1-ba7f8f7f127e",
   "metadata": {},
   "source": [
    "### Process Posts into Q+A Pairs and Apply Stemming/Pre-Tokenizing"
   ]
  },
  {
   "cell_type": "code",
   "execution_count": 5,
   "id": "16bf6f35-a11b-4f0f-adca-28b06cc7e4ef",
   "metadata": {
    "execution": {
     "iopub.execute_input": "2022-12-07T03:34:57.240455Z",
     "iopub.status.busy": "2022-12-07T03:34:57.240061Z",
     "iopub.status.idle": "2022-12-07T03:34:57.738240Z",
     "shell.execute_reply": "2022-12-07T03:34:57.737478Z",
     "shell.execute_reply.started": "2022-12-07T03:34:57.240434Z"
    },
    "tags": []
   },
   "outputs": [],
   "source": [
    "\"\"\"\n",
    "Process Description: \n",
    "The Blank Substituter removes the <math> and other html tags from the text\n",
    "The postprocessor is found in the CompuBERT module.\n",
    "\n",
    "This function call splits the data_records and preprocesses the text.\n",
    "It also creates a label or weight for each q+a pair.\n",
    "The weight is calculated via a normalized score based on the number of up\n",
    "and down votes the answer received.\n",
    "\n",
    "NOTE: One change was made to the post processor, the labels had to be\n",
    "coerced into a float \n",
    "\"\"\"\n",
    "\n",
    "\n",
    "postprocessor = BlankSubstituer()\n",
    "# # UNCOMMENT THIS CODE TO RUN FROM RAW\n",
    "# postproc_parser = postprocessor.process_parser(data_records.post_parser)"
   ]
  },
  {
   "cell_type": "markdown",
   "id": "5787c486-a21e-4d52-88cc-af7c25b52d50",
   "metadata": {},
   "source": [
    "### Load pre-saved Data (Pickled)\n",
    "\n",
    "Simply for ease of use."
   ]
  },
  {
   "cell_type": "code",
   "execution_count": 6,
   "id": "4535638c-87cb-48b2-869f-91968884cdb1",
   "metadata": {
    "execution": {
     "iopub.execute_input": "2022-12-07T03:34:57.745951Z",
     "iopub.status.busy": "2022-12-07T03:34:57.745741Z",
     "iopub.status.idle": "2022-12-07T03:34:57.871726Z",
     "shell.execute_reply": "2022-12-07T03:34:57.870740Z",
     "shell.execute_reply.started": "2022-12-07T03:34:57.745935Z"
    },
    "tags": []
   },
   "outputs": [],
   "source": [
    "# with open('postprocessor.pickle', 'wb') as handle:\n",
    "#     _=pickle.dump(postproc_parser, handle, protocol=pickle.HIGHEST_PROTOCOL)"
   ]
  },
  {
   "cell_type": "code",
   "execution_count": 7,
   "id": "f9f8c487-f42f-4981-812d-5f3ae8a63b91",
   "metadata": {
    "execution": {
     "iopub.execute_input": "2022-12-07T03:34:57.873129Z",
     "iopub.status.busy": "2022-12-07T03:34:57.872955Z",
     "iopub.status.idle": "2022-12-07T03:34:58.005113Z",
     "shell.execute_reply": "2022-12-07T03:34:58.004274Z",
     "shell.execute_reply.started": "2022-12-07T03:34:57.873112Z"
    },
    "tags": []
   },
   "outputs": [],
   "source": [
    "# with open('postprocessor.pickle', 'rb') as handle:\n",
    "#     postproc_parser = pickle.load(handle)"
   ]
  },
  {
   "cell_type": "code",
   "execution_count": 8,
   "id": "be7641cd-18bc-4cbd-a463-fdfb0505fd08",
   "metadata": {
    "execution": {
     "iopub.execute_input": "2022-12-07T03:34:58.006144Z",
     "iopub.status.busy": "2022-12-07T03:34:58.005972Z",
     "iopub.status.idle": "2022-12-07T03:34:58.138386Z",
     "shell.execute_reply": "2022-12-07T03:34:58.137636Z",
     "shell.execute_reply.started": "2022-12-07T03:34:58.006126Z"
    },
    "tags": []
   },
   "outputs": [],
   "source": [
    "# This places all the q+a posts into a tuple of (question-text, answer-text)\n",
    "# This allows the encoder to vectorize and relate the q+a data samples\n",
    "# all_data = list(examples_from_questions_tup(postproc_parser.map_questions.items()))"
   ]
  },
  {
   "cell_type": "code",
   "execution_count": 9,
   "id": "519b3948-679e-4b7d-9744-200a9827300e",
   "metadata": {
    "execution": {
     "iopub.execute_input": "2022-12-07T03:34:58.139415Z",
     "iopub.status.busy": "2022-12-07T03:34:58.139253Z",
     "iopub.status.idle": "2022-12-07T03:34:58.349409Z",
     "shell.execute_reply": "2022-12-07T03:34:58.348630Z",
     "shell.execute_reply.started": "2022-12-07T03:34:58.139395Z"
    },
    "tags": []
   },
   "outputs": [],
   "source": [
    "# with open(\"all_data.pickle\", \"wb\") as handle:\n",
    "#     _=pickle.dump(all_data, handle, protocol=pickle.HIGHEST_PROTOCOL)"
   ]
  },
  {
   "cell_type": "code",
   "execution_count": 10,
   "id": "561e9479-43d0-4230-9d83-b7e708470424",
   "metadata": {
    "execution": {
     "iopub.execute_input": "2022-12-07T03:34:58.350662Z",
     "iopub.status.busy": "2022-12-07T03:34:58.350323Z",
     "iopub.status.idle": "2022-12-07T03:35:13.708708Z",
     "shell.execute_reply": "2022-12-07T03:35:13.707863Z",
     "shell.execute_reply.started": "2022-12-07T03:34:58.350646Z"
    },
    "tags": []
   },
   "outputs": [],
   "source": [
    "with open(\"all_data.pickle\", \"rb\") as handle:\n",
    "    all_data = pickle.load(handle)\n",
    "dataset_size = len(all_data)"
   ]
  },
  {
   "cell_type": "markdown",
   "id": "9d619127-604d-4797-8abc-b885c73254a7",
   "metadata": {},
   "source": [
    "### Split Data into Dev and Train set"
   ]
  },
  {
   "cell_type": "code",
   "execution_count": 11,
   "id": "1ae4f3a2-37f1-4294-a5f5-d6d76e6e37ad",
   "metadata": {
    "execution": {
     "iopub.execute_input": "2022-12-07T03:35:13.714501Z",
     "iopub.status.busy": "2022-12-07T03:35:13.714277Z",
     "iopub.status.idle": "2022-12-07T03:35:14.202976Z",
     "shell.execute_reply": "2022-12-07T03:35:14.202163Z",
     "shell.execute_reply.started": "2022-12-07T03:35:13.714483Z"
    },
    "tags": []
   },
   "outputs": [],
   "source": [
    "# We split the dataset into a test and dev set\n",
    "X_train, X_dev = train_test_split(all_data, \n",
    "                                  train_size=0.8, \n",
    "                                  random_state=22,\n",
    "                                  shuffle=True)"
   ]
  },
  {
   "cell_type": "markdown",
   "id": "04100546-096c-4873-ac9a-268e95238946",
   "metadata": {},
   "source": [
    "### Load Model from HuggingFace"
   ]
  },
  {
   "cell_type": "code",
   "execution_count": 12,
   "id": "34d99a13-b00d-425e-bcbf-3c85bb1b825a",
   "metadata": {
    "execution": {
     "iopub.execute_input": "2022-12-07T03:35:14.204390Z",
     "iopub.status.busy": "2022-12-07T03:35:14.203950Z",
     "iopub.status.idle": "2022-12-07T03:35:16.965504Z",
     "shell.execute_reply": "2022-12-07T03:35:16.964493Z",
     "shell.execute_reply.started": "2022-12-07T03:35:14.204371Z"
    },
    "tags": []
   },
   "outputs": [],
   "source": [
    "device = \"cuda\"\n",
    "\n",
    "# # Option 1: Albert for Math Pretrained (No Training needed)\n",
    "# tokenizer_name = \"AnReu/math_pretrained_bert\"\n",
    "# model_name = \"AnReu/math_pretrained_bert\"\n",
    "\n",
    "# # Option 2: Albert for Math\n",
    "tokenizer_name = \"AnReu/albert-for-arqmath-3\"\n",
    "model_name = \"AnReu/albert-for-arqmath-3\"\n",
    "\n",
    "# # Option 3: MathBERT\n",
    "# tokenizer_name = \"tbs17/MathBERT\"\n",
    "# model_name = \"tbs17/MathBERT\"\n",
    "\n",
    "# Option 4: MPNet\n",
    "# tokenizer_name = 'sentence-transformers/all-mpnet-base-v2'\n",
    "# model_name = 'sentence-transformers/all-mpnet-base-v2'\n",
    "\n",
    "\n",
    "# # Tokenizer from pretrained\n",
    "# # For math pretrained bert and Albert for arqmath 3\n",
    "# tokenizer = AutoTokenizer.from_pretrained(tokenizer_name)\n",
    "# model = AutoModelForSequenceClassification.from_pretrained(model_name, num_labels=2)\n",
    "# model.resize_token_embeddings(len(tokenizer))\n",
    "\n",
    "# For MathBERT\n",
    "tokenizer = AutoTokenizer.from_pretrained(tokenizer_name)\n",
    "model = AutoModelForSequenceClassification.from_pretrained(model_name, num_labels=2)\n",
    "\n",
    "# IF the model is untrained on math IR, we update the tokenizer with latex\n",
    "if \"math\" not in model_name.lower():\n",
    "    print(\"Latex Tokens added to model\")\n",
    "    tokenizer.add_tokens(\"latex_tokens.txt\")\n",
    "    model.resize_token_embeddings(len(tokenizer))\n",
    "\n",
    "_=model.to(device)"
   ]
  },
  {
   "cell_type": "markdown",
   "id": "8191eb3d-fc7b-4bb7-b3cd-62e253139d8d",
   "metadata": {
    "tags": []
   },
   "source": [
    "### Model Parameters"
   ]
  },
  {
   "cell_type": "code",
   "execution_count": 32,
   "id": "ad5bc88a-a743-491c-8477-e1d4ddcb6979",
   "metadata": {
    "execution": {
     "iopub.execute_input": "2022-12-07T04:20:18.257010Z",
     "iopub.status.busy": "2022-12-07T04:20:18.256639Z",
     "iopub.status.idle": "2022-12-07T04:20:18.260628Z",
     "shell.execute_reply": "2022-12-07T04:20:18.259894Z",
     "shell.execute_reply.started": "2022-12-07T04:20:18.256992Z"
    }
   },
   "outputs": [],
   "source": [
    "num = 1\n",
    "num_epochs = 15\n",
    "datasize = \"small-dataset-\"\n",
    "model_name_path = model_name.replace(\"/\",\"_\")"
   ]
  },
  {
   "cell_type": "markdown",
   "id": "6ffe0ef3-eaac-454a-870e-6a401ac3478d",
   "metadata": {},
   "source": [
    "### Create A Pytorch Datset"
   ]
  },
  {
   "cell_type": "code",
   "execution_count": 13,
   "id": "9070acbe-cb4a-4ecc-836f-21e3122e64b0",
   "metadata": {
    "execution": {
     "iopub.execute_input": "2022-12-07T03:35:16.966874Z",
     "iopub.status.busy": "2022-12-07T03:35:16.966528Z",
     "iopub.status.idle": "2022-12-07T03:35:16.976510Z",
     "shell.execute_reply": "2022-12-07T03:35:16.975561Z",
     "shell.execute_reply.started": "2022-12-07T03:35:16.966855Z"
    },
    "tags": []
   },
   "outputs": [],
   "source": [
    "def preproc_tokenize(question, answer, label, model = \"BertClassifier\"):\n",
    "    # MathBERT does not take a Label\n",
    "    if model == \"sentence-transformers/all-mpnet-base-v2\":\n",
    "        token =  tokenizer(question, answer, \n",
    "                           padding='max_length',\n",
    "                           truncation=True,\n",
    "                           max_length=512)\n",
    "        input_ids = token['input_ids']\n",
    "        att_masks = token[\"attention_mask\"]\n",
    "        encoding = {\n",
    "            \"input_ids\": torch.tensor(input_ids, dtype=torch.long),\n",
    "            \"attention_mask\": torch.tensor(att_masks, dtype=torch.long),\n",
    "            \"labels\": torch.tensor(label, dtype=torch.long) \n",
    "        }\n",
    "        \n",
    "    # Math Classifiers (Using BERT)\n",
    "    else:\n",
    "        \n",
    "        token =  tokenizer(question, answer, \n",
    "                           padding='max_length',\n",
    "                           truncation=True,\n",
    "                           max_length=512)\n",
    "        input_ids = token['input_ids']\n",
    "        token_type_ids = token[\"token_type_ids\"]\n",
    "        att_masks = token[\"attention_mask\"]\n",
    "        encoding = {\n",
    "            \"input_ids\": torch.tensor(input_ids, dtype=torch.long),\n",
    "            \"token_type_ids\": torch.tensor(token_type_ids, dtype=torch.long),\n",
    "            \"attention_mask\": torch.tensor(att_masks, dtype=torch.long),\n",
    "            \"labels\": torch.tensor(label, dtype=torch.long) \n",
    "        }\n",
    "    return encoding\n",
    "\n",
    "def preprocess_data(inputEx: InputExample, model = \"BertClassifier\"):\n",
    "    question = inputEx.texts[0]\n",
    "    answer = inputEx.texts[1]\n",
    "    label = inputEx.label\n",
    "    return preproc_tokenize(question, answer, label, model)\n",
    "\n",
    "class MathIRDataset(torch.utils.data.Dataset):\n",
    "    def __init__(self, dataset, model = \"BertClassifier\"):\n",
    "        self.encodings = dataset\n",
    "        self.model = model\n",
    "\n",
    "    def __getitem__(self, idx):\n",
    "        return preprocess_data(self.encodings[idx], self.model)\n",
    "\n",
    "    def __len__(self):\n",
    "        return len(self.encodings)"
   ]
  },
  {
   "cell_type": "code",
   "execution_count": 14,
   "id": "9a3bbbd5-5e4f-4fcf-9999-fca133176711",
   "metadata": {
    "execution": {
     "iopub.execute_input": "2022-12-07T03:35:38.747479Z",
     "iopub.status.busy": "2022-12-07T03:35:38.747085Z",
     "iopub.status.idle": "2022-12-07T03:35:38.751327Z",
     "shell.execute_reply": "2022-12-07T03:35:38.750527Z",
     "shell.execute_reply.started": "2022-12-07T03:35:38.747461Z"
    },
    "tags": []
   },
   "outputs": [],
   "source": [
    "# Subseting the Data\n",
    "# You can opt to only take a subset of the data by changing X_train\n",
    "# to X_train[0:n]\n",
    "X_train_set = X_train[0:1000]\n",
    "X_dev_set = X_dev[0:1000]"
   ]
  },
  {
   "cell_type": "code",
   "execution_count": 15,
   "id": "8987812d-0585-47f3-acc8-e4f6239cd843",
   "metadata": {
    "execution": {
     "iopub.execute_input": "2022-12-07T03:35:39.556427Z",
     "iopub.status.busy": "2022-12-07T03:35:39.556056Z",
     "iopub.status.idle": "2022-12-07T03:35:39.560388Z",
     "shell.execute_reply": "2022-12-07T03:35:39.559536Z",
     "shell.execute_reply.started": "2022-12-07T03:35:39.556409Z"
    },
    "tags": []
   },
   "outputs": [],
   "source": [
    "# BERT Model Dataset\n",
    "# train_dataset = MathIRDataset(X_train_set)\n",
    "# val_dataset = MathIRDataset(X_dev_set)\n",
    "\n",
    "# MPNet Model Dataset\n",
    "train_dataset = MathIRDataset(X_train_set, model=model_name)\n",
    "val_dataset = MathIRDataset(X_dev_set, model=model_name)\n",
    "\n",
    "# train_loader = DataLoader(train_dataset, batch_size=4, shuffle=False)\n",
    "# val_loader = DataLoader(val_dataset, batch_size=4, shuffle=False)"
   ]
  },
  {
   "cell_type": "markdown",
   "id": "983f1958-4921-42cd-8f91-d6ffb6e109b1",
   "metadata": {},
   "source": [
    "### Inititialize the Model Parameters"
   ]
  },
  {
   "cell_type": "code",
   "execution_count": 16,
   "id": "b3f30bdf-df15-44d8-8c89-f48b006c7058",
   "metadata": {
    "execution": {
     "iopub.execute_input": "2022-12-07T03:35:41.243234Z",
     "iopub.status.busy": "2022-12-07T03:35:41.242856Z",
     "iopub.status.idle": "2022-12-07T03:35:41.685439Z",
     "shell.execute_reply": "2022-12-07T03:35:41.684651Z",
     "shell.execute_reply.started": "2022-12-07T03:35:41.243217Z"
    },
    "tags": []
   },
   "outputs": [],
   "source": [
    "# Trying out different Optimizers\n",
    "optim = pytorch_optimizer.Adan(model.parameters(), lr=2e-7)\n",
    "optim_sched = torch.optim.lr_scheduler.ExponentialLR(optim, 0.9)\n",
    "\n",
    "\n",
    "metrics = evaluate.combine([\"accuracy\", \"precision\", \"f1\"])\n",
    "\n",
    "def compute_metrics(eval_pred):\n",
    "    logits, labels = eval_pred\n",
    "    predictions = np.argmax(logits, axis=-1)\n",
    "    return metrics.compute(predictions=predictions, references=labels)\n",
    "\n",
    "_=model.train()"
   ]
  },
  {
   "cell_type": "markdown",
   "id": "bb6f7219-602f-4cb8-a6f4-542898a09a35",
   "metadata": {},
   "source": [
    "### Initialize Training Parameters and Fine-Tune (Train) Model"
   ]
  },
  {
   "cell_type": "code",
   "execution_count": null,
   "id": "103c75b9-276a-4993-8ef5-19100710b6c4",
   "metadata": {
    "tags": []
   },
   "outputs": [],
   "source": [
    "training_args = TrainingArguments(f\"./Math-IR-Adamw-2e-7-{datasize}{model_name_path}-{num}\", \n",
    "                                  evaluation_strategy=\"epoch\",\n",
    "                                  # warmup_steps = 500,\n",
    "                                  per_device_train_batch_size=10,\n",
    "                                  per_device_eval_batch_size=10,\n",
    "                                  save_strategy = \"epoch\",\n",
    "                                  seed=22,\n",
    "                                  learning_rate=2e-7,\n",
    "                                  # weight_decay = 0.1,\n",
    "                                  num_train_epochs=num_epochs)\n",
    "\n",
    "trainer = Trainer(\n",
    "    model=model,\n",
    "    args=training_args,\n",
    "    # optimizers=(optim, optim_sched),\n",
    "    train_dataset=train_dataset,        \n",
    "    eval_dataset=val_dataset,\n",
    "    compute_metrics=compute_metrics\n",
    ")\n",
    "\n",
    "trainer.train()"
   ]
  },
  {
   "cell_type": "code",
   "execution_count": 64,
   "id": "50e16d8c-bad7-4773-ab14-070b5f29770f",
   "metadata": {
    "execution": {
     "iopub.execute_input": "2022-12-06T20:39:22.475182Z",
     "iopub.status.busy": "2022-12-06T20:39:22.474809Z",
     "iopub.status.idle": "2022-12-06T20:39:25.134385Z",
     "shell.execute_reply": "2022-12-06T20:39:25.133553Z",
     "shell.execute_reply.started": "2022-12-06T20:39:22.475164Z"
    }
   },
   "outputs": [
    {
     "name": "stderr",
     "output_type": "stream",
     "text": [
      "Saving model checkpoint to ./sentence-transformers_all-mpnet-base-v2-1\n",
      "Configuration saved in ./sentence-transformers_all-mpnet-base-v2-1/config.json\n",
      "Model weights saved in ./sentence-transformers_all-mpnet-base-v2-1/pytorch_model.bin\n"
     ]
    }
   ],
   "source": [
    "trainer.save_model(f\"./{model_name_path}-{num}\")"
   ]
  },
  {
   "cell_type": "markdown",
   "id": "18d10b8f-00bc-44ef-a802-ce69a45f87ee",
   "metadata": {},
   "source": [
    "### Document Rankings/IR System"
   ]
  },
  {
   "cell_type": "markdown",
   "id": "fe55dae8-18a7-40f2-9d33-70a059b76a1f",
   "metadata": {},
   "source": [
    "Here I follow the ColBERT Architecture where we precompute sentence embeddings in order to speed up retrieval.\n",
    "<br> The link to the ColBERT article and explanation of their method is here: https://arxiv.org/abs/2112.01488"
   ]
  },
  {
   "cell_type": "markdown",
   "id": "f91c03c6-c5bc-4ab2-a5a8-b53776a66e46",
   "metadata": {},
   "source": [
    "#### Reading Our Topics for Query Testing"
   ]
  },
  {
   "cell_type": "markdown",
   "id": "6fce869d-09d1-4b9b-aa8e-9fde3cd98b25",
   "metadata": {},
   "source": [
    "Below is what our Topic Class looks like"
   ]
  },
  {
   "cell_type": "markdown",
   "id": "e503bf33-465c-4ee3-9cf1-26f54c904c8d",
   "metadata": {},
   "source": [
    "![Topics.jpg](data:image/jpeg;base64,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)"
   ]
  },
  {
   "cell_type": "markdown",
   "id": "6b9a1f03-a702-4397-b1b6-0c6c942afd0e",
   "metadata": {},
   "source": [
    "### Init Model (Can change to custom model)"
   ]
  },
  {
   "cell_type": "code",
   "execution_count": 17,
   "id": "132567b6-8af8-471a-8339-777c97485c48",
   "metadata": {
    "execution": {
     "iopub.execute_input": "2022-12-07T03:35:49.788805Z",
     "iopub.status.busy": "2022-12-07T03:35:49.788433Z",
     "iopub.status.idle": "2022-12-07T03:35:50.014547Z",
     "shell.execute_reply": "2022-12-07T03:35:50.013741Z",
     "shell.execute_reply.started": "2022-12-07T03:35:49.788787Z"
    },
    "tags": []
   },
   "outputs": [],
   "source": [
    "word_embedding_model = models.Transformer(model_name, max_seq_length=512)\n",
    "pooling_model = models.Pooling(word_embedding_model.get_word_embedding_dimension(), pooling_mode=\"mean\")\n",
    "IR_model = SentenceTransformer(modules=[word_embedding_model, pooling_model])"
   ]
  },
  {
   "cell_type": "code",
   "execution_count": 18,
   "id": "29c844bf-71a0-4c71-bd74-bd45ed570fb7",
   "metadata": {
    "execution": {
     "iopub.execute_input": "2022-12-07T03:35:58.939943Z",
     "iopub.status.busy": "2022-12-07T03:35:58.939260Z",
     "iopub.status.idle": "2022-12-07T03:35:59.002525Z",
     "shell.execute_reply": "2022-12-07T03:35:59.001756Z",
     "shell.execute_reply.started": "2022-12-07T03:35:58.939923Z"
    },
    "tags": []
   },
   "outputs": [
    {
     "data": {
      "text/plain": [
       "SentenceTransformer(\n",
       "  (0): Transformer({'max_seq_length': 512, 'do_lower_case': False}) with Transformer model: AlbertModel \n",
       "  (1): Pooling({'word_embedding_dimension': 768, 'pooling_mode_cls_token': False, 'pooling_mode_mean_tokens': True, 'pooling_mode_max_tokens': False, 'pooling_mode_mean_sqrt_len_tokens': False})\n",
       ")"
      ]
     },
     "execution_count": 18,
     "metadata": {},
     "output_type": "execute_result"
    }
   ],
   "source": [
    "IR_model.to(device)"
   ]
  },
  {
   "cell_type": "markdown",
   "id": "08e9d05a-9ffe-4e3a-b416-67a2eb65a7fa",
   "metadata": {
    "execution": {
     "iopub.execute_input": "2022-12-07T00:15:09.648343Z",
     "iopub.status.busy": "2022-12-07T00:15:09.648018Z",
     "iopub.status.idle": "2022-12-07T00:15:09.929005Z",
     "shell.execute_reply": "2022-12-07T00:15:09.928244Z",
     "shell.execute_reply.started": "2022-12-07T00:15:09.648327Z"
    },
    "tags": []
   },
   "source": [
    "### Parsing our topics (or Queries)"
   ]
  },
  {
   "cell_type": "code",
   "execution_count": 19,
   "id": "d845c11f-036b-439d-a0d1-dc100ed4a2b1",
   "metadata": {
    "execution": {
     "iopub.execute_input": "2022-12-07T03:36:08.915271Z",
     "iopub.status.busy": "2022-12-07T03:36:08.914861Z",
     "iopub.status.idle": "2022-12-07T03:36:08.946256Z",
     "shell.execute_reply": "2022-12-07T03:36:08.945432Z",
     "shell.execute_reply.started": "2022-12-07T03:36:08.915253Z"
    },
    "tags": []
   },
   "outputs": [],
   "source": [
    "from ARQMathCode.topic_file_reader import TopicReader\n",
    "import ARQMathCode\n",
    "\n",
    "def set_query_question(query : ARQMathCode.topic_file_reader.Topic, text):\n",
    "    query.question = text\n",
    "    return query\n",
    "\n",
    "topic_filepath = \"data/Topics_Task1_2022_V0.1.xml\"\n",
    "topic_records = TopicReader(topic_filepath)\n",
    "topic_parser = BlankSubstituer._drop_xml_tags\n",
    "topics_map = map(lambda a : \n",
    "                 set_query_question(a[1], topic_parser(a[1].question))\n",
    "                 , topic_records.map_topics.items())\n",
    "topics_records = list(topics_map)"
   ]
  },
  {
   "cell_type": "markdown",
   "id": "e61bb674-37b4-481e-a127-5d8a5d46b6d6",
   "metadata": {},
   "source": [
    "### Methods: Storing Corpus on Disk, Searching via Query"
   ]
  },
  {
   "cell_type": "code",
   "execution_count": 44,
   "id": "7d5b02ed-ca66-4f62-8693-4a5613bfa11d",
   "metadata": {
    "execution": {
     "iopub.execute_input": "2022-12-07T06:41:46.915160Z",
     "iopub.status.busy": "2022-12-07T06:41:46.914900Z",
     "iopub.status.idle": "2022-12-07T06:41:46.921173Z",
     "shell.execute_reply": "2022-12-07T06:41:46.920324Z",
     "shell.execute_reply.started": "2022-12-07T06:41:46.915143Z"
    },
    "tags": []
   },
   "outputs": [],
   "source": [
    "# Storing the Corpus embedding in chunks\n",
    "def store_corpus_embeddings(corpus_data, \n",
    "                            chunk_size=100000,\n",
    "                            batch_size=32):\n",
    "    corpus = list(map(lambda x: x.texts[1], all_data))\n",
    "    datalength = len(corpus)\n",
    "    ct = 1\n",
    "    for i in range(0, datalength, chunk_size):\n",
    "        print(f\"Embedding Corpus Chunk {ct}\")\n",
    "        embeddings_curr = IR_model.encode(corpus[i:i+chunk_size], \n",
    "                                          batch_size=batch_size,\n",
    "                                          show_progress_bar=True,\n",
    "                                          convert_to_tensor=True)\n",
    "        object_name = f\"./corpus-data/{model_name_path}-{num}/corpus-data-{ct}.pt\"\n",
    "        directory = f\"./corpus-data/{model_name_path}-{num}/\"\n",
    "        if not os.path.exists(directory):\n",
    "            os.mkdir(directory)\n",
    "        torch.save(embeddings_curr, object_name)\n",
    "        ct += 1\n",
    "        embeddings_curr.detach()\n",
    "        del embeddings_curr\n",
    "        torch.cuda.empty_cache()"
   ]
  },
  {
   "cell_type": "code",
   "execution_count": 45,
   "id": "bfe2a6ed-ee75-4525-98d7-1d74f44907c6",
   "metadata": {
    "execution": {
     "iopub.execute_input": "2022-12-07T06:41:47.381393Z",
     "iopub.status.busy": "2022-12-07T06:41:47.380999Z",
     "iopub.status.idle": "2022-12-07T06:41:47.389088Z",
     "shell.execute_reply": "2022-12-07T06:41:47.388166Z",
     "shell.execute_reply.started": "2022-12-07T06:41:47.381375Z"
    },
    "tags": []
   },
   "outputs": [],
   "source": [
    "# Function to Return Top K results for a query\n",
    "def search_from_query(query: ARQMathCode.topic_file_reader.Topic, \n",
    "                      chunk_size=100000,\n",
    "                      k=100,\n",
    "                      device=\"cuda\",\n",
    "                      write_csv : bool = True):\n",
    "    question = query.question\n",
    "    query_id = query.topic_id\n",
    "    query_embedding = IR_model.encode(question, convert_to_tensor=True)\n",
    "    _=query_embedding.to(device)\n",
    "    results = []\n",
    "    directory = f\"./corpus-data/{model_name_path}-{num}/\"\n",
    "    ct = 0\n",
    "    for filename in os.listdir(directory):\n",
    "        if \"corpus-data\" in filename:\n",
    "            corpus_embedding = torch.load(os.path.join(directory, filename))\n",
    "            corpus_embedding = corpus_embedding.to(device)\n",
    "            cos_scores = cos_sim(query_embedding, corpus_embedding)[0]\n",
    "            topk = torch.topk(cos_scores, k=k)\n",
    "            topk_score = topk[0].cpu().tolist()\n",
    "            topk_idx = functorch.vmap(lambda x: x+ct*chunk_size)(topk[1])\n",
    "            topk_idx = topk_idx.cpu().tolist()\n",
    "            for score, idx in zip(topk_score, topk_idx):\n",
    "                heapq.heappush(results, (socre, idx))\n",
    "            ct += 1\n",
    "            del corpus_embedding\n",
    "    top_results = heapq.nlargest(k, results)\n",
    "    if write_csv:\n",
    "        with open(f\"query-{query_id}.tsv\", \"w\") as csvfile:\n",
    "            csv_writer = csv.writer(csvfile, delimiter='\\t')\n",
    "            csv_writer.writerow([\"pid\",\"doc\",\"score\"])\n",
    "            for score, idx in top_results:\n",
    "                doc_text = all_data[idx].texts[1]\n",
    "                csv_writer.writerow([idx, doc_text, score])"
   ]
  },
  {
   "cell_type": "markdown",
   "id": "e2d0ed25-bf0c-49c3-be66-b979650627fd",
   "metadata": {},
   "source": [
    "### Example Query"
   ]
  },
  {
   "cell_type": "code",
   "execution_count": null,
   "id": "1235d195-184a-4fc0-a7ea-d1b5f8de9067",
   "metadata": {
    "execution": {
     "iopub.execute_input": "2022-12-07T06:41:48.509960Z",
     "iopub.status.busy": "2022-12-07T06:41:48.509485Z"
    },
    "tags": []
   },
   "outputs": [
    {
     "name": "stdout",
     "output_type": "stream",
     "text": [
      "Embedding Corpus Chunk 1\n"
     ]
    },
    {
     "data": {
      "application/vnd.jupyter.widget-view+json": {
       "model_id": "830171d8a8504c32bd6f035e1a970597",
       "version_major": 2,
       "version_minor": 0
      },
      "text/plain": [
       "Batches:   0%|          | 0/782 [00:00<?, ?it/s]"
      ]
     },
     "metadata": {},
     "output_type": "display_data"
    }
   ],
   "source": [
    "chunk_size = 100000\n",
    "store_corpus_embeddings(all_data, chunk_size=chunk_size, batch_size=128)"
   ]
  },
  {
   "cell_type": "code",
   "execution_count": null,
   "id": "87fbf2db-e3bd-4d6f-a478-8e329d0f2e35",
   "metadata": {
    "execution": {
     "iopub.status.busy": "2022-12-07T04:21:55.622271Z",
     "iopub.status.idle": "2022-12-07T04:21:55.622572Z",
     "shell.execute_reply": "2022-12-07T04:21:55.622454Z",
     "shell.execute_reply.started": "2022-12-07T04:21:55.622441Z"
    },
    "tags": []
   },
   "outputs": [],
   "source": [
    "query_num = 0\n",
    "query = topics_records[query_num]\n",
    "search_from_query(query, k=100, chunk_size=chunk_size, write_csv=True)"
   ]
  },
  {
   "cell_type": "code",
   "execution_count": null,
   "id": "6a3f8ca6-8154-4b65-95fb-15899415637c",
   "metadata": {
    "execution": {
     "iopub.execute_input": "2022-12-07T00:15:10.613308Z",
     "iopub.status.busy": "2022-12-07T00:15:10.612998Z",
     "iopub.status.idle": "2022-12-07T00:15:10.884883Z",
     "shell.execute_reply": "2022-12-07T00:15:10.884141Z",
     "shell.execute_reply.started": "2022-12-07T00:15:10.613292Z"
    },
    "tags": []
   },
   "outputs": [],
   "source": [
    "# query_tokens = tokenizer(topics_records[0][\"question\"], all_data[0].texts[1], \n",
    "#                          truncation=True,\n",
    "#                          padding=\"max_length\",\n",
    "#                          return_tensors=\"pt\")\n",
    "# query_tokens.to(device)\n",
    "# query_embed = model(**query_tokens)\n",
    "# torch.softmax(query_embed, dim=1).tolist()"
   ]
  },
  {
   "cell_type": "markdown",
   "id": "1e5d42ea-fadd-4c50-981d-1edcb2264d96",
   "metadata": {
    "jp-MarkdownHeadingCollapsed": true,
    "tags": []
   },
   "source": [
    "### Old Model Training Code - CompuBERT"
   ]
  },
  {
   "cell_type": "code",
   "execution_count": 13,
   "id": "ed0c841f-dbf8-4782-b059-5c1b034738d1",
   "metadata": {
    "execution": {
     "iopub.execute_input": "2022-12-06T06:50:49.245841Z",
     "iopub.status.busy": "2022-12-06T06:50:49.245536Z",
     "iopub.status.idle": "2022-12-06T06:50:49.249080Z",
     "shell.execute_reply": "2022-12-06T06:50:49.248177Z",
     "shell.execute_reply.started": "2022-12-06T06:50:49.245825Z"
    },
    "tags": []
   },
   "outputs": [],
   "source": [
    "# # CompuBERT Base Model\n",
    "# device = \"cuda\"\n",
    "# model = SentenceTransformer(\"bert-base-wikipedia-sections-mean-tokens\", \n",
    "#                             device=\"cuda\")"
   ]
  },
  {
   "cell_type": "code",
   "execution_count": null,
   "id": "e5d0dacd-e6bf-4e7b-a124-7b6f04eccd4b",
   "metadata": {
    "execution": {
     "iopub.status.busy": "2022-12-05T07:28:05.894331Z",
     "iopub.status.idle": "2022-12-05T07:28:05.894561Z",
     "shell.execute_reply": "2022-12-05T07:28:05.894462Z",
     "shell.execute_reply.started": "2022-12-05T07:28:05.894451Z"
    },
    "tags": []
   },
   "outputs": [],
   "source": [
    "# This is Unused code to train using the sentence-transformers module\n",
    "\n",
    "\n",
    "# Create the Sentence label dataset\n",
    "train_data = SentenceLabelDataset(X_train_set, 2)\n",
    "\n",
    "# # Create the sentences for the evaluator\n",
    "# # The dataset we use for the evaluator is the dev set\n",
    "# # The format for the evaluator changed since the last CompuBERT updated\n",
    "# # I augmented the code to account for this change in the new\n",
    "# # sentence-transformers package\n",
    "# sentences_1 = [tokenizer(x.texts[0]) for x in X_dev_set]\n",
    "# sentences_2 = [tokenizer(x.texts[1]) for x in X_dev_set]\n",
    "# scores = [float(x.label) for x in X_dev_set]\n",
    "\n",
    "# Load the data loader for pytorch training\n",
    "# train_loader = DataLoader(dataset, batch_size=10, shuffle=False)\n",
    "# train_loss = losses.CosineSimilarityLoss(model=model)\n",
    "\n",
    "# # Init the evaluator\n",
    "# # The evaluator will automatically write results to a folder\n",
    "# evaluator = ArqmathEvaluator(model, sentences_1, sentences_2, scores,\n",
    "#                              batch_size=10,\n",
    "#                              post_parser_postproc=postproc_parser,\n",
    "#                              name = \"ARQMathEvaluator\",\n",
    "#                              show_progress_bar=True,\n",
    "#                              write_csv=True\n",
    "#                             )\n",
    "\n",
    "# # Run the experiment\n",
    "# experiment_num = 2\n",
    "# model.compile(optimizer=Adam(3e-5))\n",
    "# model.fit(train_objectives=[(train_loader, train_loss)],\n",
    "#           evaluator=evaluator,\n",
    "#           epochs=10,\n",
    "#           evaluation_steps=50,\n",
    "#           output_path=f\"Math-IR-System-Experiment-{experiment_num}\",\n",
    "#           optimizer_params={'lr': 2e-5, 'eps': 1e-6})"
   ]
  }
 ],
 "metadata": {
  "kernelspec": {
   "display_name": "Python 3 (ipykernel)",
   "language": "python",
   "name": "python3"
  },
  "language_info": {
   "codemirror_mode": {
    "name": "ipython",
    "version": 3
   },
   "file_extension": ".py",
   "mimetype": "text/x-python",
   "name": "python",
   "nbconvert_exporter": "python",
   "pygments_lexer": "ipython3",
   "version": "3.7.7"
  }
 },
 "nbformat": 4,
 "nbformat_minor": 5
}
